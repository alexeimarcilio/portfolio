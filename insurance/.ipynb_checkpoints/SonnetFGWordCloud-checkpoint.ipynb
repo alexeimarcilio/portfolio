{
 "cells": [
  {
   "cell_type": "markdown",
   "metadata": {},
   "source": [
    "<br><br><center><h1 style=\"font-size:3em;color:#2467C0\">Sonnet Insurance Focus Groups: \n",
    "    Word Clouds</h1></center>\n",
    "<br>\n",
    "<font color=\"purple\">Alexei Marcilio</font><br>\n",
    "<font color=\"purple\">March 19, 2020</font>\n",
    "<table>\n",
    "<col width=\"550\">  \n",
    "<col width=\"550\">\n",
    "<tr>\n",
    "<td><img src=\"toronto.png\" align=\"left\" style=\"width:350px;height:260px;\"/>\n",
    "Here we will create word clouds from the transcribed text of Sonnet Insurance employee focus groups. We use Python to create word clouds from this text. <br><br>This is a useful way to quickly analyze focus group discussions as the text need only be transcribed. Some valuable insights can be gained before further in depth analysis begins.\n",
    "</td>\n",
    "</tr>\n",
    "</table>"
   ]
  },
  {
   "cell_type": "markdown",
   "metadata": {},
   "source": [
    "\\tableofcontents"
   ]
  },
  {
   "cell_type": "markdown",
   "metadata": {},
   "source": [
    "\n",
    "\n",
    "# Introduction #\n",
    "<br>\n",
    "\n",
    "In February of 2020 Sonnet Insurance, in an effort to better understand employee satisfaction, \n",
    "hosted several employee focus groups. One group was held in Montreal and the other in Toronto. \n",
    "A separate focus group of team leaders was also conducted.\n",
    "\n",
    "A word cloud is a pictorial display of a group of words depicted in various sizes. \n",
    "Words will appear bigger and bolder depending on the frequency they occur. \n",
    "Word Clouds are often used to display the frequency of words used by focus group participants. \n",
    "Focus groups collect data in an open-ended way in which participants are encouraged to give textual answers. \n",
    "Word clouds allow for a quantitative way to display this textual data.\n",
    "\n",
    "This paper presents the analysis of the three focus groups conducted by Sonnet Insurance using \n",
    "word clouds, and describes the methods by which these results were created. \n"
   ]
  },
  {
   "cell_type": "markdown",
   "metadata": {},
   "source": [
    "\n",
    "# Analytic Techniques #\n",
    "<br>\n",
    "Python is now the most popular programming language used in data science due to the many libraries\n",
    "that can be utilized for specific tasks. Here will will leverage the library \"wordcloud\" in order to \n",
    "create word clouds from text files.\n",
    "\n",
    "The following methods were used:\n",
    "\n",
    "1. Each of the google docs which contained transcribed text from the three focus groups were saved as text files after the questions were removed.\n",
    "2. A function was created in Python which utilized wordcloud and take three parameters, including an input and output file.\n",
    "3. Additional stopwords were added based on the preliminary results. Stopwords are common words, such as \"the\" and \"and\" which are excluded as they have no meaning.\n",
    "4. Each dataset was loaded and a word cloud image (png file) was created for each focus group, one for Toronto, one for Montreal and one for Team Leaders.\n",
    "5. A combined dataset and word cloud comprised of the Montreal and Toronto focus groups was created to assess overall sentiment.\n",
    "\n"
   ]
  },
  {
   "cell_type": "markdown",
   "metadata": {},
   "source": [
    "## Libraries ##\n",
    "<br>\n",
    "Let's import all the necessary libraries. STOPWORDS are the default stopwords - words which we do not want to include in the results."
   ]
  },
  {
   "cell_type": "code",
   "execution_count": 1,
   "metadata": {},
   "outputs": [],
   "source": [
    "# Start with loading all necessary libraries\n",
    "import matplotlib.pyplot as pPlot\n",
    "import numpy as npy\n",
    "from wordcloud import WordCloud, STOPWORDS, ImageColorGenerator\n",
    "from PIL import Image"
   ]
  },
  {
   "cell_type": "markdown",
   "metadata": {},
   "source": [
    "## Combine Files ##\n",
    "<br>\n",
    "We create a file for all employee discussion text by combining the Montreal and Toronto files."
   ]
  },
  {
   "cell_type": "code",
   "execution_count": 2,
   "metadata": {},
   "outputs": [
    {
     "name": "stdout",
     "output_type": "stream",
     "text": [
      "cat: tor_focus.txt: No such file or directory\r\n",
      "cat: mon_focus.txt: No such file or directory\r\n"
     ]
    }
   ],
   "source": [
    "# We run a shell command to combine the files\n",
    "!cat tor_focus.txt mon_focus.txt > emp_focus.txt"
   ]
  },
  {
   "cell_type": "markdown",
   "metadata": {},
   "source": [
    "## Import Files ##\n",
    "<br>\n",
    "We open each of the four files for reading. Let's also convert all the words to lowercase, so that every word is only counted once."
   ]
  },
  {
   "cell_type": "code",
   "execution_count": 3,
   "metadata": {},
   "outputs": [
    {
     "ename": "FileNotFoundError",
     "evalue": "[Errno 2] No such file or directory: 'tor_focus.txt'",
     "output_type": "error",
     "traceback": [
      "\u001b[0;31m---------------------------------------------------------------------------\u001b[0m",
      "\u001b[0;31mFileNotFoundError\u001b[0m                         Traceback (most recent call last)",
      "\u001b[0;32m<ipython-input-3-65c94bef86a0>\u001b[0m in \u001b[0;36m<module>\u001b[0;34m\u001b[0m\n\u001b[1;32m      1\u001b[0m \u001b[0;31m# Open each of the three files\u001b[0m\u001b[0;34m\u001b[0m\u001b[0;34m\u001b[0m\u001b[0;34m\u001b[0m\u001b[0m\n\u001b[0;32m----> 2\u001b[0;31m \u001b[0mtoro_data\u001b[0m \u001b[0;34m=\u001b[0m \u001b[0mopen\u001b[0m\u001b[0;34m(\u001b[0m\u001b[0;34m\"tor_focus.txt\"\u001b[0m\u001b[0;34m,\u001b[0m \u001b[0;34m\"r\"\u001b[0m\u001b[0;34m)\u001b[0m\u001b[0;34m.\u001b[0m\u001b[0mread\u001b[0m\u001b[0;34m(\u001b[0m\u001b[0;34m)\u001b[0m\u001b[0;34m\u001b[0m\u001b[0;34m\u001b[0m\u001b[0m\n\u001b[0m\u001b[1;32m      3\u001b[0m \u001b[0mmont_data\u001b[0m \u001b[0;34m=\u001b[0m \u001b[0mopen\u001b[0m\u001b[0;34m(\u001b[0m\u001b[0;34m\"mon_focus.txt\"\u001b[0m\u001b[0;34m,\u001b[0m \u001b[0;34m\"r\"\u001b[0m\u001b[0;34m)\u001b[0m\u001b[0;34m.\u001b[0m\u001b[0mread\u001b[0m\u001b[0;34m(\u001b[0m\u001b[0;34m)\u001b[0m\u001b[0;34m\u001b[0m\u001b[0;34m\u001b[0m\u001b[0m\n\u001b[1;32m      4\u001b[0m \u001b[0mlead_data\u001b[0m \u001b[0;34m=\u001b[0m \u001b[0mopen\u001b[0m\u001b[0;34m(\u001b[0m\u001b[0;34m\"tl_focus.txt\"\u001b[0m\u001b[0;34m,\u001b[0m \u001b[0;34m\"r\"\u001b[0m\u001b[0;34m)\u001b[0m\u001b[0;34m.\u001b[0m\u001b[0mread\u001b[0m\u001b[0;34m(\u001b[0m\u001b[0;34m)\u001b[0m\u001b[0;34m\u001b[0m\u001b[0;34m\u001b[0m\u001b[0m\n\u001b[1;32m      5\u001b[0m \u001b[0memp_data\u001b[0m \u001b[0;34m=\u001b[0m \u001b[0mopen\u001b[0m\u001b[0;34m(\u001b[0m\u001b[0;34m\"emp_focus.txt\"\u001b[0m\u001b[0;34m,\u001b[0m \u001b[0;34m\"r\"\u001b[0m\u001b[0;34m)\u001b[0m\u001b[0;34m.\u001b[0m\u001b[0mread\u001b[0m\u001b[0;34m(\u001b[0m\u001b[0;34m)\u001b[0m\u001b[0;34m\u001b[0m\u001b[0;34m\u001b[0m\u001b[0m\n",
      "\u001b[0;31mFileNotFoundError\u001b[0m: [Errno 2] No such file or directory: 'tor_focus.txt'"
     ]
    }
   ],
   "source": [
    "# Open each of the three files\n",
    "toro_data = open(\"tor_focus.txt\", \"r\").read()\n",
    "mont_data = open(\"mon_focus.txt\", \"r\").read()\n",
    "lead_data = open(\"tl_focus.txt\", \"r\").read()\n",
    "emp_data = open(\"emp_focus.txt\", \"r\").read()\n",
    "# Convert all files to lowercase\n",
    "toro_data = toro_data.lower()\n",
    "mont_data = mont_data.lower()\n",
    "lead_data = lead_data.lower()\n",
    "emp_data = emp_data.lower()"
   ]
  },
  {
   "cell_type": "markdown",
   "metadata": {},
   "source": [
    "## Additional Stopwords ##\n",
    "<br>\n",
    "We run through preliminary results and notice common words that should be excluded. We do that here by adding additional stopwords to our list."
   ]
  },
  {
   "cell_type": "code",
   "execution_count": null,
   "metadata": {},
   "outputs": [],
   "source": [
    "# Add additional stopwords\n",
    "stop_words = [\"people\", \"don\", \"time\", \"name\", \"thing\", \\\n",
    "              \"one\", \"feel\", \"call\", \"say\",\"tl\", \"know\", \\\n",
    "              \"us\", \"will\", \"work\",\"make\", \"say\", \"think\" \\\n",
    "             \"take\", \"go\", \"company\", \"someone\", \"day\", \"year\", \\\n",
    "              \"jen\", \"think\", \"take\", \"lot\", \"now\", \"makes\", \\\n",
    "              \"said\", \"going\", \"come\", \"things\"] + list(STOPWORDS)"
   ]
  },
  {
   "cell_type": "markdown",
   "metadata": {},
   "source": [
    "## Python Function##\n",
    "<br>\n",
    "We create a python function that will accept three parameters. The first two indicate the input file, which is the\n",
    "transcribed focus group text, and the second is the name of the output file, in case we need to create a hard copy\n",
    "of the image. The third function is a boolean value. \n",
    "\n",
    "If <font color=\"purple\">True</font> then the function will \n",
    "only print a png image to file, otherwise, if <font color=\"purple\">False</font>, it will only display the image. Sometimes a hard copy of an image is necessary for rendering a PDF document from a $\\LaTeX$ file for example.\n",
    "\n"
   ]
  },
  {
   "cell_type": "code",
   "execution_count": null,
   "metadata": {},
   "outputs": [],
   "source": [
    "# Python function to display word clouds\n",
    "def create_cloud(input_file, output_file, yes_to_print):\n",
    "\n",
    "    wordcloud = WordCloud(max_words=70, background_color=\"white\", \\\n",
    "                          width=1600, height=800,\n",
    "                          stopwords=stop_words).generate(input_file)\n",
    "    if not yes_to_print:\n",
    "        pPlot.figure(figsize=(12, 8))\n",
    "        pPlot.imshow(wordcloud, interpolation=\"bilinear\")\n",
    "        pPlot.axis(\"off\")\n",
    "        pPlot.show()\n",
    "    else:\n",
    "        pPlot.savefig(output_file)\n",
    "        wordcloud.to_file(output_file)"
   ]
  },
  {
   "cell_type": "markdown",
   "metadata": {},
   "source": [
    "## Create Word Cloud Images ##\n",
    "<br>\n",
    "We run the function for each file creating a word cloud image for each of the three focus groups. These will\n",
    "be used for other applications."
   ]
  },
  {
   "cell_type": "code",
   "execution_count": null,
   "metadata": {},
   "outputs": [],
   "source": [
    "# Create the word clouds\n",
    "create_cloud(toro_data, \"torontoCloud.png\", True)\n",
    "create_cloud(mont_data, \"montrealCloud.png\", True)\n",
    "create_cloud(emp_data, \"employeeCloud.png\", True)\n",
    "create_cloud(lead_data, \"leadersCloud.png\", True)"
   ]
  },
  {
   "cell_type": "markdown",
   "metadata": {},
   "source": [
    "# Analysing Word Clouds #\n",
    "<br>\n",
    "Let's take a look at each of the images. We should remember that it can be a challenge to interpret word clouds because they emphasize the frequency of the words, not really their importance.\n",
    "\n",
    "Word clouds will often not accurately show the content of the text if different words are used for the \n",
    "same meaning, for example \"large\", \"huge\", \"giant\", and so on will dilute the point being made. \n",
    "They will also not provide any context, so we may lose the\n",
    "meaning of certain words. Therefore due to these limitations word clouds are most suited for \n",
    "exploratory qualitative analysis."
   ]
  },
  {
   "cell_type": "markdown",
   "metadata": {
    "caption": "somecaption",
    "label": "fig:somelabel",
    "widefigure": true
   },
   "source": [
    "## Toronto Word Cloud ##\n",
    "First let's take a look at the Toronto Focus Group word cloud. "
   ]
  },
  {
   "cell_type": "code",
   "execution_count": null,
   "metadata": {},
   "outputs": [],
   "source": [
    "create_cloud(toro_data, \"torontoCloud.png\", False)"
   ]
  },
  {
   "cell_type": "markdown",
   "metadata": {},
   "source": [
    " <h3 style=\"text-align:left;font-size:0.8em;color:#2467C0\">Toronto Focus Group Word Cloud</h3>"
   ]
  },
  {
   "cell_type": "markdown",
   "metadata": {},
   "source": [
    "The first thing we notice about the Toronto Word Cloud is that the word good is the largest word.\n",
    "This means this was said the most often. That would seem like a good sign, as this can only\n",
    "be construed as a positive thing. \n",
    "\n",
    "\"Change\" and \"want\" are the second and third largest words which\n",
    "would seem to indicate that things aren't all perfect. If change was brought up frequently in the\n",
    "focus group it probably indicates most people are not complacent and are willing to change \n",
    "the status quo. "
   ]
  },
  {
   "cell_type": "markdown",
   "metadata": {
    "caption": "somecaption",
    "label": "fig:somelabel",
    "widefigure": true
   },
   "source": [
    "## Montreal Word Cloud ##\n",
    "Second we take a look at the Montreal Focus Group word cloud. "
   ]
  },
  {
   "cell_type": "code",
   "execution_count": null,
   "metadata": {},
   "outputs": [],
   "source": [
    "create_cloud(mont_data, \"montrealCloud.png\", False)"
   ]
  },
  {
   "cell_type": "markdown",
   "metadata": {},
   "source": [
    " <h3 style=\"text-align:left;font-size:0.8em;color:#2467C0\">Montreal Focus Group Word Cloud</h3>"
   ]
  },
  {
   "cell_type": "markdown",
   "metadata": {},
   "source": [
    "The first thing we notice about the Montreal Word Cloud is that the word \"toronto\" is front and center.\n",
    "It's interesting that Toronto was mentioned so often during the focus group. Perhaps there's some\n",
    "resentment towards the Toronto team from the Montreal employees.\n",
    "\n",
    "The word \"need\" is used very often. It's interesting that the word \"need\" is used so frequently among the\n",
    "Montreal employees, in contrast to the Toronto employees who tended to use the word \"want\" \n",
    "frequently. In fact the word \"need\" is hardly used at all at the Toronto office. \n",
    "\n",
    "Training is on their mind more at the Montreal location.\n"
   ]
  },
  {
   "cell_type": "markdown",
   "metadata": {
    "caption": "somecaption",
    "label": "fig:somelabel",
    "widefigure": true
   },
   "source": [
    "## Employee Word Cloud ##\n",
    "Now let's take a look at the Employee Focus Group word cloud. This is the word cloud created from\n",
    "the combined text of the Montreal and Toronto focus groups."
   ]
  },
  {
   "cell_type": "code",
   "execution_count": null,
   "metadata": {},
   "outputs": [],
   "source": [
    "create_cloud(emp_data, \"employeeCloud.png\", False)"
   ]
  },
  {
   "cell_type": "markdown",
   "metadata": {},
   "source": [
    " <h3 style=\"text-align:left;font-size:0.8em;color:#2467C0\">Employee Focus Group Word Cloud</h3>"
   ]
  },
  {
   "cell_type": "markdown",
   "metadata": {},
   "source": [
    "Here we can see that the word \"good\" is prominent and also the word \"want\". \"Need\" follows behind.\n",
    "This could be due to the fact the Toronto focus group included more people. Employees use the \n",
    "word \"good\" quite a bit, but are looking for change. We can see this with the frequency of \n",
    "words such as \"want\", \"need\" and \"change\"."
   ]
  },
  {
   "cell_type": "markdown",
   "metadata": {
    "caption": "somecaption",
    "label": "fig:somelabel",
    "widefigure": true
   },
   "source": [
    "## Leader Word Cloud ##\n",
    "Lastly we examine the Leader's Focus Group word cloud."
   ]
  },
  {
   "cell_type": "code",
   "execution_count": null,
   "metadata": {},
   "outputs": [],
   "source": [
    "create_cloud(lead_data, \"leaderCloud.png\", False)"
   ]
  },
  {
   "cell_type": "markdown",
   "metadata": {},
   "source": [
    " <h3 style=\"text-align:left;font-size:0.8em;color:#2467C0\">Leader's Focus Group Word Cloud</h3>"
   ]
  },
  {
   "cell_type": "markdown",
   "metadata": {},
   "source": [
    "It's interesting that the Leader's word cloud is very different from that of the employee's \n",
    "word cloud. \"Need\" is emphasized, which is similar to Montreal, but the word \"see\" is \n",
    "the most common word. It could be that the frequent use of the word \"see\" represents\n",
    "some frustration among leaders of the company who believe that employees don't see\n",
    "either what is happening, or the vision of the company leaders wish to present."
   ]
  },
  {
   "cell_type": "markdown",
   "metadata": {},
   "source": [
    "# Conclusion #\n",
    "\n"
   ]
  },
  {
   "cell_type": "markdown",
   "metadata": {},
   "source": [
    "We have used analytic techniques to create word clouds for each of the Sonnet Insurance\n",
    "focus groups and one for a combined employee focus group. Word clouds are sometimes used as\n",
    "an initial step in analyzing focus group text as they can quickly provide a quantitative \n",
    "overview. \n",
    "\n",
    "Although overall sentiment is often easy to interpret from a word cloud it is more difficult, or\n",
    "impossible to determine more than a high level take on the data. Domain knowledge can often help\n",
    "as employees who are familiar with the company might be able to better interpret these images. \n",
    "\n",
    "We can see that at Sonnet Insurance there seems to be more employee satisfaction in Toronto than \n",
    "in Montreal, and that many employees are looking for something different as the words \"change\", \n",
    "\"need\" and \"want\" are the most frequently used words."
   ]
  }
 ],
 "metadata": {
  "date": "March 18 2020",
  "ipub": {
   "titlepage": {
    "author": "Authors Name",
    "email": "authors@email.com",
    "institution": [
     "Institution1",
     "Institution2"
    ],
    "logo": "path/to/logo_example.png",
    "subtitle": "Sub-Title",
    "supervisors": [
     "First Supervisor",
     "Second Supervisor"
    ],
    "tagline": "A tagline for the report.",
    "title": "Main-Title"
   }
  },
  "kernelspec": {
   "display_name": "Python 3",
   "language": "python",
   "name": "python3"
  },
  "language_info": {
   "codemirror_mode": {
    "name": "ipython",
    "version": 3
   },
   "file_extension": ".py",
   "mimetype": "text/x-python",
   "name": "python",
   "nbconvert_exporter": "python",
   "pygments_lexer": "ipython3",
   "version": "3.8.0"
  },
  "latex_envs": {
   "LaTeX_envs_menu_present": true,
   "autoclose": false,
   "autocomplete": true,
   "bibliofile": "biblio.bib",
   "cite_by": "apalike",
   "current_citInitial": 1,
   "eqLabelWithNumbers": true,
   "eqNumInitial": 1,
   "hotkeys": {
    "equation": "Ctrl-E",
    "itemize": "Ctrl-I"
   },
   "labels_anchors": false,
   "latex_user_defs": true,
   "report_style_numbering": false,
   "user_envs_cfg": true
  },
  "title": "Sonnet Insurance Focus Groups: An Analysis using Word Clouds",
  "toc": {
   "base_numbering": 1,
   "nav_menu": {},
   "number_sections": false,
   "sideBar": true,
   "skip_h1_title": false,
   "title_cell": "Table of Contents",
   "title_sidebar": "Contents",
   "toc_cell": false,
   "toc_position": {
    "height": "calc(100% - 180px)",
    "left": "10px",
    "top": "150px",
    "width": "398.352px"
   },
   "toc_section_display": true,
   "toc_window_display": false
  }
 },
 "nbformat": 4,
 "nbformat_minor": 1
}
